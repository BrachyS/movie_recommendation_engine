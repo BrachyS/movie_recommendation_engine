{
 "cells": [
  {
   "cell_type": "markdown",
   "metadata": {},
   "source": [
    "This notebook builds a movie recommendation engine use the Surprise package.\n",
    "Data is downloaded from: https://grouplens.org/datasets/movielens/\n",
    "\n",
    "Citation: F. Maxwell Harper and Joseph A. Konstan. 2015. The MovieLens Datasets: History and Context. ACM Transactions on Interactive Intelligent Systems (TiiS) 5, 4: 19:1–19:19. https://doi.org/10.1145/2827872\n",
    "\n",
    "Reference tutorial: https://blog.cambridgespark.com/tutorial-practical-introduction-to-recommender-systems-dbe22848392b"
   ]
  },
  {
   "cell_type": "code",
   "execution_count": 1,
   "metadata": {},
   "outputs": [],
   "source": [
    "import pandas as pd\n",
    "import numpy as np\n",
    "import matplotlib.pyplot as plt\n",
    "import seaborn as sns\n",
    "import surprise\n",
    "from datetime import datetime"
   ]
  },
  {
   "cell_type": "code",
   "execution_count": 2,
   "metadata": {},
   "outputs": [],
   "source": [
    "# Import models from Surprise\n",
    "from surprise import Dataset\n",
    "from surprise import accuracy\n",
    "from surprise.model_selection import GridSearchCV\n",
    "from surprise.model_selection import train_test_split\n",
    "from surprise.model_selection import cross_validate\n",
    "from surprise.model_selection import KFold\n",
    "\n",
    "from surprise import SVDpp"
   ]
  },
  {
   "cell_type": "markdown",
   "metadata": {},
   "source": [
    "### 1. Data importing, visualization and cleaning"
   ]
  },
  {
   "cell_type": "code",
   "execution_count": 3,
   "metadata": {},
   "outputs": [],
   "source": [
    "# Import data\n",
    "ratings = pd.read_csv('../data/ratings.csv')\n",
    "movies = pd.read_csv('../data/movies.csv')\n",
    "tags = pd.read_csv('../data/tags.csv')"
   ]
  },
  {
   "cell_type": "code",
   "execution_count": 4,
   "metadata": {},
   "outputs": [
    {
     "data": {
      "text/html": [
       "<div>\n",
       "<style scoped>\n",
       "    .dataframe tbody tr th:only-of-type {\n",
       "        vertical-align: middle;\n",
       "    }\n",
       "\n",
       "    .dataframe tbody tr th {\n",
       "        vertical-align: top;\n",
       "    }\n",
       "\n",
       "    .dataframe thead th {\n",
       "        text-align: right;\n",
       "    }\n",
       "</style>\n",
       "<table border=\"1\" class=\"dataframe\">\n",
       "  <thead>\n",
       "    <tr style=\"text-align: right;\">\n",
       "      <th></th>\n",
       "      <th>userId</th>\n",
       "      <th>movieId</th>\n",
       "      <th>rating</th>\n",
       "      <th>timestamp</th>\n",
       "    </tr>\n",
       "  </thead>\n",
       "  <tbody>\n",
       "    <tr>\n",
       "      <th>0</th>\n",
       "      <td>1</td>\n",
       "      <td>1</td>\n",
       "      <td>4.0</td>\n",
       "      <td>2000-07-30 18:45:03</td>\n",
       "    </tr>\n",
       "    <tr>\n",
       "      <th>1</th>\n",
       "      <td>1</td>\n",
       "      <td>3</td>\n",
       "      <td>4.0</td>\n",
       "      <td>2000-07-30 18:20:47</td>\n",
       "    </tr>\n",
       "    <tr>\n",
       "      <th>2</th>\n",
       "      <td>1</td>\n",
       "      <td>6</td>\n",
       "      <td>4.0</td>\n",
       "      <td>2000-07-30 18:37:04</td>\n",
       "    </tr>\n",
       "    <tr>\n",
       "      <th>3</th>\n",
       "      <td>1</td>\n",
       "      <td>47</td>\n",
       "      <td>5.0</td>\n",
       "      <td>2000-07-30 19:03:35</td>\n",
       "    </tr>\n",
       "    <tr>\n",
       "      <th>4</th>\n",
       "      <td>1</td>\n",
       "      <td>50</td>\n",
       "      <td>5.0</td>\n",
       "      <td>2000-07-30 18:48:51</td>\n",
       "    </tr>\n",
       "  </tbody>\n",
       "</table>\n",
       "</div>"
      ],
      "text/plain": [
       "   userId  movieId  rating           timestamp\n",
       "0       1        1     4.0 2000-07-30 18:45:03\n",
       "1       1        3     4.0 2000-07-30 18:20:47\n",
       "2       1        6     4.0 2000-07-30 18:37:04\n",
       "3       1       47     5.0 2000-07-30 19:03:35\n",
       "4       1       50     5.0 2000-07-30 18:48:51"
      ]
     },
     "execution_count": 4,
     "metadata": {},
     "output_type": "execute_result"
    }
   ],
   "source": [
    "from datetime import datetime\n",
    "\n",
    "ratings.timestamp = pd.to_datetime(ratings.timestamp, unit= 's') # parse timestamp to datetime\n",
    "ratings.head()"
   ]
  },
  {
   "cell_type": "code",
   "execution_count": 5,
   "metadata": {},
   "outputs": [
    {
     "data": {
      "text/plain": [
       "userId       0\n",
       "movieId      0\n",
       "rating       0\n",
       "timestamp    0\n",
       "dtype: int64"
      ]
     },
     "execution_count": 5,
     "metadata": {},
     "output_type": "execute_result"
    }
   ],
   "source": [
    "ratings.isnull().sum() # check null values"
   ]
  },
  {
   "cell_type": "code",
   "execution_count": 6,
   "metadata": {},
   "outputs": [
    {
     "data": {
      "text/html": [
       "<div>\n",
       "<style scoped>\n",
       "    .dataframe tbody tr th:only-of-type {\n",
       "        vertical-align: middle;\n",
       "    }\n",
       "\n",
       "    .dataframe tbody tr th {\n",
       "        vertical-align: top;\n",
       "    }\n",
       "\n",
       "    .dataframe thead th {\n",
       "        text-align: right;\n",
       "    }\n",
       "</style>\n",
       "<table border=\"1\" class=\"dataframe\">\n",
       "  <thead>\n",
       "    <tr style=\"text-align: right;\">\n",
       "      <th></th>\n",
       "      <th>movieId</th>\n",
       "      <th>title</th>\n",
       "      <th>genres</th>\n",
       "    </tr>\n",
       "  </thead>\n",
       "  <tbody>\n",
       "    <tr>\n",
       "      <th>0</th>\n",
       "      <td>1</td>\n",
       "      <td>Toy Story (1995)</td>\n",
       "      <td>Adventure|Animation|Children|Comedy|Fantasy</td>\n",
       "    </tr>\n",
       "    <tr>\n",
       "      <th>1</th>\n",
       "      <td>2</td>\n",
       "      <td>Jumanji (1995)</td>\n",
       "      <td>Adventure|Children|Fantasy</td>\n",
       "    </tr>\n",
       "    <tr>\n",
       "      <th>2</th>\n",
       "      <td>3</td>\n",
       "      <td>Grumpier Old Men (1995)</td>\n",
       "      <td>Comedy|Romance</td>\n",
       "    </tr>\n",
       "    <tr>\n",
       "      <th>3</th>\n",
       "      <td>4</td>\n",
       "      <td>Waiting to Exhale (1995)</td>\n",
       "      <td>Comedy|Drama|Romance</td>\n",
       "    </tr>\n",
       "    <tr>\n",
       "      <th>4</th>\n",
       "      <td>5</td>\n",
       "      <td>Father of the Bride Part II (1995)</td>\n",
       "      <td>Comedy</td>\n",
       "    </tr>\n",
       "  </tbody>\n",
       "</table>\n",
       "</div>"
      ],
      "text/plain": [
       "   movieId                               title  \\\n",
       "0        1                    Toy Story (1995)   \n",
       "1        2                      Jumanji (1995)   \n",
       "2        3             Grumpier Old Men (1995)   \n",
       "3        4            Waiting to Exhale (1995)   \n",
       "4        5  Father of the Bride Part II (1995)   \n",
       "\n",
       "                                        genres  \n",
       "0  Adventure|Animation|Children|Comedy|Fantasy  \n",
       "1                   Adventure|Children|Fantasy  \n",
       "2                               Comedy|Romance  \n",
       "3                         Comedy|Drama|Romance  \n",
       "4                                       Comedy  "
      ]
     },
     "execution_count": 6,
     "metadata": {},
     "output_type": "execute_result"
    }
   ],
   "source": [
    "movies.head()"
   ]
  },
  {
   "cell_type": "code",
   "execution_count": 7,
   "metadata": {},
   "outputs": [
    {
     "data": {
      "text/html": [
       "<div>\n",
       "<style scoped>\n",
       "    .dataframe tbody tr th:only-of-type {\n",
       "        vertical-align: middle;\n",
       "    }\n",
       "\n",
       "    .dataframe tbody tr th {\n",
       "        vertical-align: top;\n",
       "    }\n",
       "\n",
       "    .dataframe thead th {\n",
       "        text-align: right;\n",
       "    }\n",
       "</style>\n",
       "<table border=\"1\" class=\"dataframe\">\n",
       "  <thead>\n",
       "    <tr style=\"text-align: right;\">\n",
       "      <th></th>\n",
       "      <th>userId</th>\n",
       "      <th>movieId</th>\n",
       "      <th>tag</th>\n",
       "      <th>timestamp</th>\n",
       "    </tr>\n",
       "  </thead>\n",
       "  <tbody>\n",
       "    <tr>\n",
       "      <th>0</th>\n",
       "      <td>2</td>\n",
       "      <td>60756</td>\n",
       "      <td>funny</td>\n",
       "      <td>2015-10-24 19:29:54</td>\n",
       "    </tr>\n",
       "    <tr>\n",
       "      <th>1</th>\n",
       "      <td>2</td>\n",
       "      <td>60756</td>\n",
       "      <td>Highly quotable</td>\n",
       "      <td>2015-10-24 19:29:56</td>\n",
       "    </tr>\n",
       "    <tr>\n",
       "      <th>2</th>\n",
       "      <td>2</td>\n",
       "      <td>60756</td>\n",
       "      <td>will ferrell</td>\n",
       "      <td>2015-10-24 19:29:52</td>\n",
       "    </tr>\n",
       "    <tr>\n",
       "      <th>3</th>\n",
       "      <td>2</td>\n",
       "      <td>89774</td>\n",
       "      <td>Boxing story</td>\n",
       "      <td>2015-10-24 19:33:27</td>\n",
       "    </tr>\n",
       "    <tr>\n",
       "      <th>4</th>\n",
       "      <td>2</td>\n",
       "      <td>89774</td>\n",
       "      <td>MMA</td>\n",
       "      <td>2015-10-24 19:33:20</td>\n",
       "    </tr>\n",
       "  </tbody>\n",
       "</table>\n",
       "</div>"
      ],
      "text/plain": [
       "   userId  movieId              tag           timestamp\n",
       "0       2    60756            funny 2015-10-24 19:29:54\n",
       "1       2    60756  Highly quotable 2015-10-24 19:29:56\n",
       "2       2    60756     will ferrell 2015-10-24 19:29:52\n",
       "3       2    89774     Boxing story 2015-10-24 19:33:27\n",
       "4       2    89774              MMA 2015-10-24 19:33:20"
      ]
     },
     "execution_count": 7,
     "metadata": {},
     "output_type": "execute_result"
    }
   ],
   "source": [
    "tags.timestamp = pd.to_datetime(tags.timestamp, unit= 's')\n",
    "tags.head()"
   ]
  },
  {
   "cell_type": "code",
   "execution_count": 8,
   "metadata": {},
   "outputs": [
    {
     "name": "stdout",
     "output_type": "stream",
     "text": [
      "ratings (100836, 4)\n",
      "movies (9742, 3)\n",
      "tags (3683, 4)\n"
     ]
    }
   ],
   "source": [
    "print('ratings',ratings.shape)\n",
    "print('movies',movies.shape)\n",
    "print('tags',tags.shape)"
   ]
  },
  {
   "cell_type": "markdown",
   "metadata": {},
   "source": [
    "### Visualizations"
   ]
  },
  {
   "cell_type": "code",
   "execution_count": 9,
   "metadata": {},
   "outputs": [
    {
     "data": {
      "image/png": "[encoded data removed]",
      "text/plain": [
       "<Figure size 432x288 with 1 Axes>"
      ]
     },
     "metadata": {
      "needs_background": "light"
     },
     "output_type": "display_data"
    }
   ],
   "source": [
    "# Distribution of ratings\n",
    "_ = sns.distplot(ratings['rating'], kde = False)\n",
    "plt.show()"
   ]
  },
  {
   "cell_type": "markdown",
   "metadata": {},
   "source": [
    "Most common scores are 3 and 4."
   ]
  },
  {
   "cell_type": "code",
   "execution_count": 10,
   "metadata": {},
   "outputs": [],
   "source": [
    "# Count number of ratings per movie and per user\n",
    "ratings_per_movie = ratings.groupby('movieId')['movieId'].count() \n",
    "ratings_per_user = ratings.groupby('userId')['userId'].count()"
   ]
  },
  {
   "cell_type": "code",
   "execution_count": 11,
   "metadata": {},
   "outputs": [
    {
     "name": "stdout",
     "output_type": "stream",
     "text": [
      "Max number of ratings a movie recevied: 329\n",
      "Max number of ratings a user gave: 2698\n"
     ]
    }
   ],
   "source": [
    "print('Max number of ratings a movie recevied:',max(ratings_per_movie))\n",
    "print('Max number of ratings a user gave:',max(ratings_per_user))"
   ]
  },
  {
   "cell_type": "code",
   "execution_count": 12,
   "metadata": {},
   "outputs": [
    {
     "data": {
      "image/png": "[encoded data removed]",
      "text/plain": [
       "<Figure size 432x288 with 1 Axes>"
      ]
     },
     "metadata": {
      "needs_background": "light"
     },
     "output_type": "display_data"
    }
   ],
   "source": [
    "# Distribution of ratings \n",
    "_ = sns.distplot(ratings_per_movie, bins =30, kde = False)\n",
    "plt.xlabel('Number of ratings per movie')\n",
    "plt.ylabel('Frequency')\n",
    "plt.show()"
   ]
  },
  {
   "cell_type": "code",
   "execution_count": 13,
   "metadata": {},
   "outputs": [
    {
     "data": {
      "image/png": "[encoded data removed]",
      "text/plain": [
       "<Figure size 432x288 with 1 Axes>"
      ]
     },
     "metadata": {
      "needs_background": "light"
     },
     "output_type": "display_data"
    }
   ],
   "source": [
    "# Distribution of ratings\n",
    "_ = sns.distplot(ratings_per_user, bins= 25, kde = False)\n",
    "plt.xlabel('Number of ratings per user')\n",
    "plt.ylabel('Frequency')\n",
    "plt.show()"
   ]
  },
  {
   "cell_type": "markdown",
   "metadata": {},
   "source": [
    "Distributions of ratings per movie and ratings per user are heavily skewed. \n",
    "\n",
    "To reduce dimentionality we shall remove movies that are rated less than 10 times and users that rated less than 100 movies"
   ]
  },
  {
   "cell_type": "code",
   "execution_count": 37,
   "metadata": {},
   "outputs": [],
   "source": [
    "# Filter out movies rated less than 10 time, and users rated less than 100 times\n",
    "filter_movieId = ratings_per_movie[ratings_per_movie > 10].index\n",
    "filter_userId = ratings_per_user[ratings_per_user > 100].index"
   ]
  },
  {
   "cell_type": "code",
   "execution_count": 38,
   "metadata": {},
   "outputs": [],
   "source": [
    "filtered_ratings = ratings[ratings['movieId'].isin(filter_movieId)& \n",
    "                                ratings['userId'].isin(filter_userId)]"
   ]
  },
  {
   "cell_type": "code",
   "execution_count": 39,
   "metadata": {},
   "outputs": [
    {
     "data": {
      "image/png": "[encoded data removed]",
      "text/plain": [
       "<Figure size 432x288 with 1 Axes>"
      ]
     },
     "metadata": {
      "needs_background": "light"
     },
     "output_type": "display_data"
    }
   ],
   "source": [
    "_ = sns.distplot(ratings_per_user, kde = False)\n",
    "plt.xlabel('Number of ratings per user')\n",
    "plt.ylabel('Frequency')\n",
    "plt.show()"
   ]
  },
  {
   "cell_type": "code",
   "execution_count": 40,
   "metadata": {},
   "outputs": [
    {
     "name": "stdout",
     "output_type": "stream",
     "text": [
      "Original ratings data shape: (100836, 4)\n",
      "Data shape after filtering: (64322, 4)\n"
     ]
    }
   ],
   "source": [
    "print('Original ratings data shape:', ratings.shape)\n",
    "print('Data shape after filtering:',filtered_ratings.shape)"
   ]
  },
  {
   "cell_type": "markdown",
   "metadata": {},
   "source": [
    "### 2. Modeling with Surprise libary"
   ]
  },
  {
   "cell_type": "code",
   "execution_count": 41,
   "metadata": {},
   "outputs": [
    {
     "name": "stdout",
     "output_type": "stream",
     "text": [
      "Review rating range is 0.5 to 5.0\n"
     ]
    }
   ],
   "source": [
    "# Check range of ratings\n",
    "print('Review rating range is {} to {}'.format(min(ratings.rating),max(ratings.rating)))"
   ]
  },
  {
   "cell_type": "code",
   "execution_count": 42,
   "metadata": {},
   "outputs": [],
   "source": [
    "filtered_ratings = filtered_ratings[['userId','movieId','rating']] # select only first three columns"
   ]
  },
  {
   "cell_type": "code",
   "execution_count": 43,
   "metadata": {},
   "outputs": [
    {
     "data": {
      "text/html": [
       "<div>\n",
       "<style scoped>\n",
       "    .dataframe tbody tr th:only-of-type {\n",
       "        vertical-align: middle;\n",
       "    }\n",
       "\n",
       "    .dataframe tbody tr th {\n",
       "        vertical-align: top;\n",
       "    }\n",
       "\n",
       "    .dataframe thead th {\n",
       "        text-align: right;\n",
       "    }\n",
       "</style>\n",
       "<table border=\"1\" class=\"dataframe\">\n",
       "  <thead>\n",
       "    <tr style=\"text-align: right;\">\n",
       "      <th></th>\n",
       "      <th>userId</th>\n",
       "      <th>movieId</th>\n",
       "      <th>rating</th>\n",
       "    </tr>\n",
       "  </thead>\n",
       "  <tbody>\n",
       "    <tr>\n",
       "      <th>0</th>\n",
       "      <td>1</td>\n",
       "      <td>1</td>\n",
       "      <td>4.0</td>\n",
       "    </tr>\n",
       "    <tr>\n",
       "      <th>1</th>\n",
       "      <td>1</td>\n",
       "      <td>3</td>\n",
       "      <td>4.0</td>\n",
       "    </tr>\n",
       "    <tr>\n",
       "      <th>2</th>\n",
       "      <td>1</td>\n",
       "      <td>6</td>\n",
       "      <td>4.0</td>\n",
       "    </tr>\n",
       "    <tr>\n",
       "      <th>3</th>\n",
       "      <td>1</td>\n",
       "      <td>47</td>\n",
       "      <td>5.0</td>\n",
       "    </tr>\n",
       "    <tr>\n",
       "      <th>4</th>\n",
       "      <td>1</td>\n",
       "      <td>50</td>\n",
       "      <td>5.0</td>\n",
       "    </tr>\n",
       "  </tbody>\n",
       "</table>\n",
       "</div>"
      ],
      "text/plain": [
       "   userId  movieId  rating\n",
       "0       1        1     4.0\n",
       "1       1        3     4.0\n",
       "2       1        6     4.0\n",
       "3       1       47     5.0\n",
       "4       1       50     5.0"
      ]
     },
     "execution_count": 43,
     "metadata": {},
     "output_type": "execute_result"
    }
   ],
   "source": [
    "filtered_ratings.head()"
   ]
  },
  {
   "cell_type": "code",
   "execution_count": 44,
   "metadata": {},
   "outputs": [],
   "source": [
    "# Set seed\n",
    "import random\n",
    "random.seed(5)\n",
    "np.random.seed(5)"
   ]
  },
  {
   "cell_type": "code",
   "execution_count": 46,
   "metadata": {},
   "outputs": [],
   "source": [
    "## Reformat rating range with surprise\n",
    "\n",
    "reader = surprise.Reader(rating_scale = (0.5, 5.))\n",
    "data = surprise.Dataset.load_from_df(filtered_ratings, reader)"
   ]
  },
  {
   "cell_type": "code",
   "execution_count": 47,
   "metadata": {},
   "outputs": [],
   "source": [
    "# Split data into A (90%) and B (10%)\n",
    "# Note: In Surprise, train_test_split does not work prior to GridSearchCV \n",
    "# Manually split datasets into trainset A and testset B.\n",
    "# Ref: https://surprise.readthedocs.io/en/stable/FAQ.html#how-to-save-some-data-for-unbiased-accuracy-estimation\n",
    "\n",
    "raw_ratings = data.raw_ratings\n",
    "threshold = int(.9 * len(raw_ratings)) # 90% train, 10% test\n",
    "A_raw_ratings = raw_ratings[:threshold]\n",
    "B_raw_ratings = raw_ratings[threshold:]\n",
    "# shuffling necessary?"
   ]
  },
  {
   "cell_type": "code",
   "execution_count": 48,
   "metadata": {},
   "outputs": [
    {
     "name": "stdout",
     "output_type": "stream",
     "text": [
      "Trainset lenghth: 57889\n",
      "Testset lenghth: 6433\n"
     ]
    }
   ],
   "source": [
    "print('Trainset lenghth:',len(A_raw_ratings))\n",
    "print('Testset lenghth:',len(B_raw_ratings))"
   ]
  },
  {
   "cell_type": "code",
   "execution_count": 49,
   "metadata": {},
   "outputs": [],
   "source": [
    "data.raw_ratings = A_raw_ratings # data is now set A\n"
   ]
  },
  {
   "cell_type": "markdown",
   "metadata": {},
   "source": [
    "#### Q: double check if train, test are correctly set"
   ]
  },
  {
   "cell_type": "code",
   "execution_count": 50,
   "metadata": {},
   "outputs": [
    {
     "name": "stdout",
     "output_type": "stream",
     "text": [
      "2020-08-31 20:19:56.465920\n",
      "{'lr_all': 0.01, 'reg_all': 0.1}\n",
      "2020-08-31 21:30:18.808134\n"
     ]
    }
   ],
   "source": [
    "# Tune hyperparameters and cross validation\n",
    "# Set grids for learning rate params and regularization params\n",
    "print(datetime.now())\n",
    "param_grid = {'lr_all': [.001, .01], \n",
    "              'reg_all': [.1, .5]}\n",
    "\n",
    "# GridSearchCV\n",
    "gs_A = GridSearchCV(surprise.SVDpp, param_grid,\n",
    "                                          measures = ['rmse','mae'], cv=5)\n",
    "gs_A.fit(data)\n",
    "print(gs_A.best_params['rmse'])\n",
    "print(datetime.now())"
   ]
  },
  {
   "cell_type": "code",
   "execution_count": 51,
   "metadata": {},
   "outputs": [
    {
     "data": {
      "text/plain": [
       "<surprise.prediction_algorithms.matrix_factorization.SVDpp at 0x11288ae10>"
      ]
     },
     "execution_count": 51,
     "metadata": {},
     "output_type": "execute_result"
    }
   ],
   "source": [
    "# retrain on dataset A, with best parameters\n",
    "algo = gs_A.best_estimator['rmse']\n",
    "\n",
    "trainset = data.build_full_trainset()\n",
    "algo.fit(trainset)"
   ]
  },
  {
   "cell_type": "code",
   "execution_count": 52,
   "metadata": {},
   "outputs": [
    {
     "name": "stdout",
     "output_type": "stream",
     "text": [
      "RMSE: 0.7647\n",
      "Training accuracy: 0.7647474167540812\n",
      "RMSE: 0.9048\n",
      "Testing accuracy: 0.9047643501651624\n"
     ]
    }
   ],
   "source": [
    "# Compute trainset accuracy\n",
    "predictions = algo.test(trainset.build_testset())\n",
    "print('Training accuracy:', accuracy.rmse(predictions))\n",
    "\n",
    "# Compute testset accuracy\n",
    "testset = data.construct_testset(B_raw_ratings)\n",
    "predictions = algo.test(testset)\n",
    "print('Testing accuracy:', accuracy.rmse(predictions))"
   ]
  },
  {
   "cell_type": "markdown",
   "metadata": {},
   "source": [
    "Model seems a bit underfitting. "
   ]
  },
  {
   "cell_type": "code",
   "execution_count": 53,
   "metadata": {},
   "outputs": [],
   "source": [
    "# Customized function to make recommendations to a selected userId\n",
    "import warnings\n",
    "warnings.filterwarnings('ignore')\n",
    "\n",
    "# list of unique movieIds\n",
    "iids = filtered_ratings['movieId'].unique()\n",
    "\n",
    "def recommend_movies(userId, n_movie_rec):\n",
    "    \n",
    "    '''Function to take an userId and number of movies to recommend,\n",
    "    and compute the top predicted-rated movies to recommend to this user '''\n",
    "    \n",
    "    # get list of movies that has been rated\n",
    "    rated_iids = filtered_ratings.loc[filtered_ratings['userId']== userId, 'movieId']\n",
    "    iids_to_pred = np.setdiff1d(iids,rated_iids)\n",
    "\n",
    "    # Create a dataset in the same sparse form and fill ratings will 4.0\n",
    "    dataset = [[userId,iid, 4.] for iid in iids_to_pred]\n",
    "    predictions = algo.test(dataset)\n",
    "\n",
    "    # Convert predictions to an array\n",
    "    pred_ratings = np.array([pred.est for pred in predictions])\n",
    "\n",
    "    # Get index of top n highest-rated movies \n",
    "    pred_ind = np.argpartition(pred_ratings, -n_movie_rec)[-n_movie_rec:]\n",
    "    # sort indexes by value\n",
    "    pred_ind = pred_ind[np.argsort(pred_ratings[pred_ind])]\n",
    "\n",
    "    # convert to movie iid\n",
    "    pred_movie_id = iids_to_pred[pred_ind]\n",
    "\n",
    "    # Top n highest-rated movies to recommend\n",
    "    rec = movies.loc[movies['movieId'].isin(pred_movie_id)]\n",
    "    rec['pred_ratings']= pred_ratings[pred_ind].tolist()\n",
    "\n",
    "    return rec"
   ]
  },
  {
   "cell_type": "code",
   "execution_count": 65,
   "metadata": {},
   "outputs": [],
   "source": [
    "# Run a test on user 1\n",
    "userId = 1\n",
    "n_movie_rec =10\n",
    "recs = recommend_movies(userId,10)"
   ]
  },
  {
   "cell_type": "code",
   "execution_count": 66,
   "metadata": {},
   "outputs": [
    {
     "name": "stdout",
     "output_type": "stream",
     "text": [
      "      movieId                                          title  \\\n",
      "277       318               Shawshank Redemption, The (1994)   \n",
      "680       898                 Philadelphia Story, The (1940)   \n",
      "694       912                              Casablanca (1942)   \n",
      "704       922  Sunset Blvd. (a.k.a. Sunset Boulevard) (1950)   \n",
      "841      1104               Streetcar Named Desire, A (1951)   \n",
      "883      1178                          Paths of Glory (1957)   \n",
      "906      1204                      Lawrence of Arabia (1962)   \n",
      "918      1217                                     Ran (1985)   \n",
      "947      1248                           Touch of Evil (1958)   \n",
      "7704    89904                              The Artist (2011)   \n",
      "\n",
      "                        genres  pred_ratings  \n",
      "277                Crime|Drama           5.0  \n",
      "680       Comedy|Drama|Romance           5.0  \n",
      "694              Drama|Romance           5.0  \n",
      "704    Drama|Film-Noir|Romance           5.0  \n",
      "841                      Drama           5.0  \n",
      "883                  Drama|War           5.0  \n",
      "906        Adventure|Drama|War           5.0  \n",
      "918                  Drama|War           5.0  \n",
      "947   Crime|Film-Noir|Thriller           5.0  \n",
      "7704      Comedy|Drama|Romance           5.0  \n"
     ]
    }
   ],
   "source": [
    "print(recs)"
   ]
  },
  {
   "cell_type": "code",
   "execution_count": 62,
   "metadata": {},
   "outputs": [
    {
     "name": "stdout",
     "output_type": "stream",
     "text": [
      "     userId  movieId  rating           timestamp\n",
      "231       1     5060     5.0 2000-07-30 19:06:42\n",
      "230       1     4006     4.0 2000-07-30 18:48:23\n",
      "229       1     3809     4.0 2000-07-30 18:20:20\n",
      "228       1     3793     5.0 2000-07-30 18:30:55\n",
      "227       1     3744     4.0 2000-07-30 18:11:34\n",
      "226       1     3740     4.0 2000-07-30 18:40:17\n",
      "225       1     3729     5.0 2000-07-30 18:39:23\n",
      "224       1     3703     5.0 2000-07-30 18:31:49\n",
      "223       1     3702     5.0 2000-07-30 19:02:17\n",
      "222       1     3671     5.0 2000-07-30 18:26:29\n"
     ]
    }
   ],
   "source": [
    "user_top_ratings = ratings.loc[(ratings['userId']== userId)].sort_values(\n",
    "                    by= 'movieId', ascending =False).head(10)\n",
    "print(user_top_ratings)"
   ]
  },
  {
   "cell_type": "code",
   "execution_count": 60,
   "metadata": {},
   "outputs": [
    {
     "name": "stdout",
     "output_type": "stream",
     "text": [
      "      movieId                                 title  \\\n",
      "2733     3671                Blazing Saddles (1974)   \n",
      "2764     3702                        Mad Max (1979)   \n",
      "2765     3703  Road Warrior, The (Mad Max 2) (1981)   \n",
      "2788     3729                          Shaft (1971)   \n",
      "2798     3740    Big Trouble in Little China (1986)   \n",
      "2802     3744                          Shaft (2000)   \n",
      "2836     3793                          X-Men (2000)   \n",
      "2847     3809                What About Bob? (1991)   \n",
      "2991     4006        Transformers: The Movie (1986)   \n",
      "3673     5060          M*A*S*H (a.k.a. MASH) (1970)   \n",
      "\n",
      "                                   genres  \n",
      "2733                       Comedy|Western  \n",
      "2764              Action|Adventure|Sci-Fi  \n",
      "2765     Action|Adventure|Sci-Fi|Thriller  \n",
      "2788          Action|Crime|Drama|Thriller  \n",
      "2798      Action|Adventure|Comedy|Fantasy  \n",
      "2802                Action|Crime|Thriller  \n",
      "2836              Action|Adventure|Sci-Fi  \n",
      "2847                               Comedy  \n",
      "2991  Adventure|Animation|Children|Sci-Fi  \n",
      "3673                     Comedy|Drama|War  \n"
     ]
    }
   ],
   "source": [
    "user_top_movies = movies.loc[movies['movieId'].isin(user_top_ratings.movieId.tolist())]\n",
    "print(user_top_movies)"
   ]
  },
  {
   "cell_type": "markdown",
   "metadata": {},
   "source": [
    "**Summary**\n",
    "\n",
    "It seems that some long-time classic movies like Star Wars and Shawshank Redemption are being recommended very frequently. They were rated by too many users so that recommending these movies might not be very personalized choice. \n",
    "\n",
    "Next we may need to remove these \"super movies\" to improve model performance. "
   ]
  },
  {
   "cell_type": "code",
   "execution_count": null,
   "metadata": {},
   "outputs": [],
   "source": []
  }
 ],
 "metadata": {
  "kernelspec": {
   "display_name": "Python 3",
   "language": "python",
   "name": "python3"
  },
  "language_info": {
   "codemirror_mode": {
    "name": "ipython",
    "version": 3
   },
   "file_extension": ".py",
   "mimetype": "text/x-python",
   "name": "python",
   "nbconvert_exporter": "python",
   "pygments_lexer": "ipython3",
   "version": "3.6.7"
  }
 },
 "nbformat": 4,
 "nbformat_minor": 2
}
